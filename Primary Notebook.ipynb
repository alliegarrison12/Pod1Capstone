{
 "cells": [
  {
   "cell_type": "markdown",
   "metadata": {},
   "source": [
    "# Computing Visions Jupyter Notebook"
   ]
  },
  {
   "cell_type": "markdown",
   "metadata": {},
   "source": []
  },
  {
   "cell_type": "markdown",
   "metadata": {},
   "source": [
    "# Allie Garrison\n"
   ]
  },
  {
   "cell_type": "code",
   "execution_count": null,
   "metadata": {},
   "outputs": [],
   "source": [
    "import sqlite3\n",
    "import numpy as np\n",
    "import pandas as pd\n",
    "import matplotlib.pyplot as plt\n",
    "import seaborn as sns\n",
    "\n",
    "%matplotlib inline"
   ]
  },
  {
   "cell_type": "code",
   "execution_count": null,
   "metadata": {},
   "outputs": [],
   "source": [
    "conn = sqlite3.connect('zippedData/im.db')\n",
    "\n",
    "bom_movie_gross = pd.read_csv(\"zippedData/bom.movie_gross.csv\")\n",
    "rt_movie_info = pd.read_csv(\"zippedData/rt.movie_info.tsv\", sep='\\t')\n",
    "rt_reviews = pd.read_csv('zippedData/rt.reviews.tsv', sep='\\t',encoding='windows-1252')\n",
    "tmdb_movies = pd.read_csv(\"zippedData/tmdb.movies.csv\")\n",
    "tn_movie_budgets = pd.read_csv(\"zippedData/tn.movie_budgets.csv\", parse_dates=['release_date'])"
   ]
  },
  {
   "cell_type": "code",
   "execution_count": null,
   "metadata": {},
   "outputs": [],
   "source": [
    "## Making copy of movie budgets data frame for cleaning\n",
    "tn_movie_budgets_clean = tn_movie_budgets.copy()\n",
    "\n",
    "## turning the columns with dollar amounts into int types in millions of dollars\n",
    "tn_movie_budgets_clean['production_budget_in_millions'] = tn_movie_budgets_clean['production_budget'].str.strip('$').str.replace(',', '')\n",
    "tn_movie_budgets_clean['production_budget_in_millions'] = tn_movie_budgets_clean['production_budget_in_millions'].astype('int64') / 1000000\n",
    "\n",
    "tn_movie_budgets_clean['domestic_gross_in_millions'] = tn_movie_budgets_clean['domestic_gross'].str.strip('$').str.replace(',', '')\n",
    "tn_movie_budgets_clean['domestic_gross_in_millions'] = tn_movie_budgets_clean['domestic_gross_in_millions'].astype('int64') / 1000000\n",
    "\n",
    "tn_movie_budgets_clean['worldwide_gross_in_millions'] = tn_movie_budgets_clean['worldwide_gross'].str.strip('$').str.replace(',', '')\n",
    "tn_movie_budgets_clean['worldwide_gross_in_millions'] = tn_movie_budgets_clean['worldwide_gross_in_millions'].astype('int64') / 1000000\n",
    "\n",
    "## taking out all movies that were released before January 1, 2010\n",
    "tn_movie_budgets_clean = tn_movie_budgets_clean[tn_movie_budgets_clean['release_date'] >= \"2010-01-01\"]\n",
    "\n",
    "## taking out all movies that did not make a profit\n",
    "tn_movie_budgets_clean = tn_movie_budgets_clean[tn_movie_budgets_clean['domestic_gross_in_millions'] != 0]"
   ]
  },
  {
   "cell_type": "code",
   "execution_count": null,
   "metadata": {},
   "outputs": [],
   "source": [
    "## Creating columns with return on investment (ROI) for domestic and international revenue\n",
    "tn_movie_budgets_clean['ROI_domestic'] = (tn_movie_budgets_clean['domestic_gross_in_millions'] / tn_movie_budgets_clean['production_budget_in_millions']) * 100\n",
    "tn_movie_budgets_clean['ROI_international'] = (tn_movie_budgets_clean['worldwide_gross_in_millions'] / tn_movie_budgets_clean['production_budget_in_millions']) * 100"
   ]
  },
  {
   "cell_type": "markdown",
   "metadata": {},
   "source": [
    "### "
   ]
  },
  {
   "cell_type": "code",
   "execution_count": null,
   "metadata": {},
   "outputs": [],
   "source": [
    "## joining movie_basics and movie_ratings to create a data frame with title, runtime, genre, ratings, and votes\n",
    "table_genre = pd.read_sql('''\n",
    "SELECT mb.primary_title, \n",
    "        mb.runtime_minutes, \n",
    "        mb.genres, \n",
    "        mr.averagerating,\n",
    "        mr.numvotes\n",
    "FROM movie_basics AS mb\n",
    "JOIN movie_ratings AS mr USING (movie_id)\n",
    "''', conn)"
   ]
  },
  {
   "cell_type": "code",
   "execution_count": null,
   "metadata": {},
   "outputs": [],
   "source": [
    "## merging the cleaned tn.movie_budgets dataframe with table_genre on movie title\n",
    "genre_ratings_budget = tn_movie_budgets_clean.merge(table_genre, how='inner', left_on='movie', right_on='primary_title')"
   ]
  },
  {
   "cell_type": "code",
   "execution_count": null,
   "metadata": {},
   "outputs": [],
   "source": [
    "genre_ratings_budget.head()"
   ]
  },
  {
   "cell_type": "code",
   "execution_count": null,
   "metadata": {},
   "outputs": [],
   "source": [
    "## creating a dataframe with only the movies with animation as a genre\n",
    "animation = genre_ratings_budget[genre_ratings_budget['genres'].str.contains('Animation') == True]\n",
    "avg_rating = genre_ratings_budget['profit_in_millions'].mean()\n",
    "\n",
    "# running a 1-sample t-test on the animation profit vs. population profit\n",
    "stats.ttest_1samp(action['profit_in_millions'], popmean=avg_rating)\n"
   ]
  },
  {
   "cell_type": "markdown",
   "metadata": {},
   "source": [
    "# Cole Sussmeier"
   ]
  },
  {
   "cell_type": "code",
   "execution_count": null,
   "metadata": {},
   "outputs": [],
   "source": [
    "# create profit column\n",
    "genre_ratings_budget['profit_in_millions'] = genre_ratings_budget['worldwide_gross_in_millions'] - genre_ratings_budget['production_budget_in_millions']"
   ]
  },
  {
   "cell_type": "code",
   "execution_count": null,
   "metadata": {},
   "outputs": [],
   "source": [
    "plt.title(\"Distribution of Total Profit for all Movies\")\n",
    "plt.xlabel(\"Profit in Millions\")\n",
    "plt.ylabel(\"Number of Movies\")\n",
    "sns.histplot(genre_ratings_budget['profit_in_millions'], bins=50);"
   ]
  },
  {
   "cell_type": "markdown",
   "metadata": {},
   "source": [
    "### Get average values for features by genre"
   ]
  },
  {
   "cell_type": "code",
   "execution_count": null,
   "metadata": {},
   "outputs": [],
   "source": [
    "# genre_hash is a dictionary where each key is a genre, and the value is the number of times it occurs in the 'genres' column\n",
    "genre_hash = {}\n",
    "\n",
    "# array of lists where each individual list is every genre listed for a single movie\n",
    "genre_lists = genre_ratings_budget['genres'].str.split(',')\n",
    "\n",
    "for i, genres in enumerate(genre_lists):\n",
    "    # try/ except in case there is an empty list (no genres listed for a movie)\n",
    "    try:\n",
    "        for genre in genres:\n",
    "            # add one to genre if the key exists\n",
    "            if genre in genre_hash.keys():\n",
    "                genre_hash[genre] += 1\n",
    "            # otherwise create the key\n",
    "            else:\n",
    "                genre_hash[genre] = 1\n",
    "    except:\n",
    "        pass\n"
   ]
  },
  {
   "cell_type": "code",
   "execution_count": null,
   "metadata": {},
   "outputs": [],
   "source": [
    "genre_hash"
   ]
  },
  {
   "cell_type": "code",
   "execution_count": null,
   "metadata": {},
   "outputs": [],
   "source": [
    "genre_stats = []\n",
    "for genre in genre_hash.keys():\n",
    "    #filter for every entry that contains the current genre\n",
    "    mask = genre_ratings_budget[genre_ratings_budget['genres'].str.contains(genre) == True]\n",
    "    # append list with averages for relevant features\n",
    "    genre_stats.append([genre, mask['profit_in_millions'].mean().round(2), \n",
    "                        mask['production_budget_in_millions'].mean().round(2),\n",
    "                        mask['averagerating'].mean().round(2),\n",
    "                        mask['numvotes'].mean().round(2)])"
   ]
  },
  {
   "cell_type": "code",
   "execution_count": null,
   "metadata": {},
   "outputs": [],
   "source": [
    "#convert to dataframe\n",
    "genre_stats_df = pd.DataFrame(genre_stats, \n",
    "                              columns=['Genre', 'Average_Profit', 'Average_Budget', 'Average_Rating', 'Average_Votes'])\n",
    "genre_stats_df"
   ]
  },
  {
   "cell_type": "code",
   "execution_count": null,
   "metadata": {},
   "outputs": [],
   "source": [
    "# important note: There are many instances where genres overlap, ie Avengers Endgame is action and adventure.\n",
    "# This means that the profit of this individual movie is factored into the averages for both genres \n",
    "# and they are not independent measures"
   ]
  },
  {
   "cell_type": "code",
   "execution_count": null,
   "metadata": {},
   "outputs": [],
   "source": [
    "plt.figure(figsize=(25,15))\n",
    "sns.set(font_scale=2)\n",
    "plt.xticks(rotation=45)\n",
    "plt.title(\"Average Profit by Genre\")\n",
    "sns.barplot(data = genre_stats_df, x='Genre', y='Average_Profit');\n"
   ]
  },
  {
   "cell_type": "code",
   "execution_count": null,
   "metadata": {},
   "outputs": [],
   "source": [
    "plt.figure(figsize=(25,15))\n",
    "plt.xticks(rotation=45)\n",
    "plt.title(\"Average Budget by Genre\")\n",
    "sns.barplot(data = genre_stats_df, x='Genre', y='Average_Budget');"
   ]
  },
  {
   "cell_type": "code",
   "execution_count": null,
   "metadata": {},
   "outputs": [],
   "source": [
    "plt.figure(figsize=(25,15))\n",
    "plt.xticks(rotation=45)\n",
    "plt.title(\"Average Rating by Genre\")\n",
    "sns.barplot(data = genre_stats_df, x='Genre', y='Average_Rating');"
   ]
  },
  {
   "cell_type": "code",
   "execution_count": null,
   "metadata": {},
   "outputs": [],
   "source": [
    "plt.figure(figsize=(25,15))\n",
    "plt.xticks(rotation=45)\n",
    "plt.title(\"Average Votes by Genre\")\n",
    "sns.barplot(data = genre_stats_df, x='Genre', y='Average_Votes');"
   ]
  },
  {
   "cell_type": "code",
   "execution_count": null,
   "metadata": {},
   "outputs": [],
   "source": [
    "plt.title(\"Correlation Plot\")\n",
    "sns.heatmap(genre_stats_df.corr().round(2), cmap=\"RdYlGn\", annot=True);"
   ]
  },
  {
   "cell_type": "code",
   "execution_count": null,
   "metadata": {},
   "outputs": [],
   "source": []
  },
  {
   "cell_type": "markdown",
   "metadata": {},
   "source": [
    "### Correlation plot for animation movies"
   ]
  },
  {
   "cell_type": "code",
   "execution_count": null,
   "metadata": {},
   "outputs": [],
   "source": [
    "animation = genre_ratings_budget[genre_ratings_budget['genres'].str.contains('Animation') == True]"
   ]
  },
  {
   "cell_type": "code",
   "execution_count": null,
   "metadata": {},
   "outputs": [],
   "source": [
    "sns.set(font_scale=1)\n",
    "sns.relplot(data=animation, \n",
    "            x =\"production_budget_in_millions\", y=\"profit_in_millions\")\n",
    "plt.xlabel(\"Budget (Millions USD)\")\n",
    "plt.ylabel(\"Profit (Millions USD)\")\n",
    "plt.title(\"Budget vs Profit for Animation Movies\");"
   ]
  },
  {
   "cell_type": "code",
   "execution_count": null,
   "metadata": {},
   "outputs": [],
   "source": [
    "sns.set(font_scale=1)\n",
    "sns.relplot(data=animation, \n",
    "            x =\"production_budget_in_millions\", y=\"averagerating\")\n",
    "plt.xlabel(\"Budget (Millions USD)\")\n",
    "plt.ylabel(\"Average Rating\")\n",
    "plt.title(\"Budget vs Average Rating for Animation Movies\");"
   ]
  },
  {
   "cell_type": "code",
   "execution_count": null,
   "metadata": {},
   "outputs": [],
   "source": [
    "# top ten most profitable\n",
    "animation.sort_values('profit_in_millions', ascending=False).head(10)"
   ]
  },
  {
   "cell_type": "code",
   "execution_count": null,
   "metadata": {},
   "outputs": [],
   "source": [
    "# top ten animated movies by rating\n",
    "animation.sort_values('averagerating', ascending=False).head(10)"
   ]
  },
  {
   "cell_type": "code",
   "execution_count": null,
   "metadata": {},
   "outputs": [],
   "source": [
    "# feel free to run any statistical tests that may be relevant to our reccomendations... this is just the outline required\n",
    "# for a 1sample t-test"
   ]
  },
  {
   "cell_type": "code",
   "execution_count": null,
   "metadata": {},
   "outputs": [],
   "source": [
    "avg_profit = genre_ratings_budget['profit_in_millions'].mean()\n",
    "print(avg_profit)"
   ]
  },
  {
   "cell_type": "code",
   "execution_count": null,
   "metadata": {},
   "outputs": [],
   "source": [
    "action = genre_ratings_budget[genre_ratings_budget['genres'].str.contains('Action') == True]"
   ]
  },
  {
   "cell_type": "code",
   "execution_count": null,
   "metadata": {},
   "outputs": [],
   "source": [
    "from scipy import stats"
   ]
  },
  {
   "cell_type": "code",
   "execution_count": null,
   "metadata": {},
   "outputs": [],
   "source": [
    "stats.ttest_1samp(action['profit_in_millions'], popmean=avg_profit)"
   ]
  },
  {
   "cell_type": "code",
   "execution_count": null,
   "metadata": {},
   "outputs": [],
   "source": [
    "# avg profit from action is significantly different than avg profit overall"
   ]
  },
  {
   "cell_type": "markdown",
   "metadata": {},
   "source": [
    "## Working Area 1- Jacob and Matt"
   ]
  },
  {
   "cell_type": "markdown",
   "metadata": {},
   "source": [
    "## Creating a list of the top 10 animation movies by runtime\n",
    "\n"
   ]
  },
  {
   "cell_type": "markdown",
   "metadata": {},
   "source": [
    "To recommend a runtime we took our suggested genre of animation and wanted to see the runtimes of the highest rated animated films so we could emulate their lengths."
   ]
  },
  {
   "cell_type": "code",
   "execution_count": null,
   "metadata": {},
   "outputs": [],
   "source": [
    "#Querying to find the runtime of the top 10 animation movies by rating \n",
    "df_runtime_raw = pd.read_sql('''\n",
    "SELECT \n",
    "    primary_title as \"Movie\", runtime_minutes as \"Run Time\"\n",
    "FROM \n",
    "    movie_basics as mb\n",
    "JOIN\n",
    "    movie_ratings USING (movie_id)\n",
    "where \n",
    "    genres like \"%Animation%\"\n",
    "    and  \"Run Time\" < 200\n",
    "AND \n",
    "    runtime_minutes != \"Nan\"\n",
    "ORDER BY\n",
    "    averagerating DESC\n",
    "LIMIT 10\n",
    "\n",
    "\n",
    "''', conn)"
   ]
  },
  {
   "cell_type": "code",
   "execution_count": null,
   "metadata": {},
   "outputs": [],
   "source": [
    "fig, ax = plt.subplots(figsize=(15, 10))\n",
    "sns.barplot(data = df_runtime_raw, x='Movie', y='Run Time')\n",
    "plt.xlabel(\"Movie\")\n",
    "plt.ylabel(\"Run Time\")\n",
    "plt.title(\"Animation Movies Run Time\")\n",
    "plt.xticks(rotation = 45)\n",
    "#plotting our movies from above"
   ]
  },
  {
   "cell_type": "code",
   "execution_count": null,
   "metadata": {},
   "outputs": [],
   "source": []
  },
  {
   "cell_type": "code",
   "execution_count": null,
   "metadata": {},
   "outputs": [],
   "source": []
  },
  {
   "cell_type": "code",
   "execution_count": null,
   "metadata": {},
   "outputs": [],
   "source": []
  },
  {
   "cell_type": "code",
   "execution_count": null,
   "metadata": {},
   "outputs": [],
   "source": []
  },
  {
   "cell_type": "code",
   "execution_count": null,
   "metadata": {},
   "outputs": [],
   "source": []
  },
  {
   "cell_type": "code",
   "execution_count": null,
   "metadata": {},
   "outputs": [],
   "source": []
  },
  {
   "cell_type": "code",
   "execution_count": null,
   "metadata": {},
   "outputs": [],
   "source": []
  },
  {
   "cell_type": "code",
   "execution_count": null,
   "metadata": {},
   "outputs": [],
   "source": []
  },
  {
   "cell_type": "markdown",
   "metadata": {},
   "source": [
    "<h2> Working Area 2 - Cameron Narimanian"
   ]
  },
  {
   "cell_type": "markdown",
   "metadata": {},
   "source": [
    "<h8> Due to JSON merging errors corrupting the main 'Primary Notebook' everytime I would push, (this happened like 3 times where we had to reset the main notebook), we decided to push it from Matt's python set.  Cam sent the code set to Matt to push to see if it make a difference, just as a temporary fix, we know it is not in best practice however given our timeframe and resources (not knowing JSON and consulting instructors) we decided this was the best alternative for the amount of time we had"
   ]
  },
  {
   "cell_type": "code",
   "execution_count": null,
   "metadata": {},
   "outputs": [],
   "source": [
    "<h3> Number of Films Per Genre Since 2010"
   ]
  },
  {
   "cell_type": "code",
   "execution_count": null,
   "metadata": {},
   "outputs": [],
   "source": [
    "genre_stats_df.sort_values('Average_Profit',ascending= False)\n",
    "\n",
    "### Based on average profit since 2010, Animation has the highest profit"
   ]
  },
  {
   "cell_type": "markdown",
   "metadata": {},
   "source": [
    "<h4> Top 10 Animation Movies Based on Profits in Millions since 2010"
   ]
  },
  {
   "cell_type": "code",
   "execution_count": null,
   "metadata": {
    "scrolled": true
   },
   "outputs": [],
   "source": [
    "df_topanimation=animation.sort_values('profit_in_millions').head(10)\n",
    "\n",
    "df_topanimation"
   ]
  },
  {
   "cell_type": "markdown",
   "metadata": {},
   "source": [
    "<h5> Top Animation Runtime in Minutes"
   ]
  },
  {
   "cell_type": "code",
   "execution_count": null,
   "metadata": {
    "scrolled": true
   },
   "outputs": [],
   "source": [
    "df_topanimation['runtime_minutes']"
   ]
  },
  {
   "cell_type": "markdown",
   "metadata": {},
   "source": [
    "<h4> Boxplot Top Animation Movies based on Profit"
   ]
  },
  {
   "cell_type": "code",
   "execution_count": null,
   "metadata": {
    "scrolled": true
   },
   "outputs": [],
   "source": [
    "## BASED OFF THE MOVIE PROFITS\n",
    "\n",
    "plt.subplots(figsize=(5, 5))\n",
    "\n",
    "df_topanimation['runtime_minutes']\n",
    "\n",
    "sns.boxplot(data= df_topanimation , y = 'runtime_minutes')\n",
    "\n",
    "plt.xlabel(\"Movies\")\n",
    "plt.ylabel(\"Run Time\")\n",
    "plt.title(\"Top Animation Movies Run Time\")"
   ]
  },
  {
   "cell_type": "markdown",
   "metadata": {},
   "source": [
    "<h5> 25% of the animation movies are between 87 minutes long and 102 minutes long with an average runtime of 91 minutes "
   ]
  },
  {
   "cell_type": "code",
   "execution_count": null,
   "metadata": {},
   "outputs": [],
   "source": [
    "df_topanimation['runtime_minutes'].describe()"
   ]
  },
  {
   "cell_type": "markdown",
   "metadata": {},
   "source": [
    "Due to JSON merging errors corrupting the main 'Primary Notebook' everytime I would push, (this happened like 3 times where we had to reset the main notebook), we decided to push it from Matt's python set.  Cam sent the code set to Matt to push to see if it make a difference, just as a temporary fix, we know it is not in best practice however given our timeframe and resources (not knowing JSON and consulting instructors) we decided this was the best alternative for the amount of time we had"
   ]
  },
  {
   "cell_type": "markdown",
   "metadata": {},
   "source": [
    "## Number of Films Per Genre Since 2010"
   ]
  },
  {
   "cell_type": "code",
   "execution_count": null,
   "metadata": {},
   "outputs": [],
   "source": [
    "genre_stats_df.sort_values('Average_Profit',ascending= False)\n",
    "\n",
    "### Based on average profit since 2010, Animation has the highest profit"
   ]
  },
  {
   "cell_type": "markdown",
   "metadata": {},
   "source": [
    "## Top 10 Animation Movies Based on Profits in Millions since 2010"
   ]
  },
  {
   "cell_type": "code",
   "execution_count": null,
   "metadata": {},
   "outputs": [],
   "source": [
    "df_topanimation=animation.sort_values('profit_in_millions').head(10)\n",
    "\n",
    "df_topanimation"
   ]
  },
  {
   "cell_type": "markdown",
   "metadata": {},
   "source": [
    "## Top Animation Runtime in Minutes"
   ]
  },
  {
   "cell_type": "code",
   "execution_count": null,
   "metadata": {},
   "outputs": [],
   "source": [
    "df_topanimation['runtime_minutes']"
   ]
  },
  {
   "cell_type": "markdown",
   "metadata": {},
   "source": [
    "<h4> Boxplot Top Animation Movies based on Profit"
   ]
  },
  {
   "cell_type": "code",
   "execution_count": null,
   "metadata": {},
   "outputs": [],
   "source": [
    "## BASED OFF THE MOVIE PROFITS\n",
    "\n",
    "plt.subplots(figsize=(5, 5))\n",
    "\n",
    "df_topanimation['runtime_minutes']\n",
    "\n",
    "sns.boxplot(data= df_topanimation , y = 'runtime_minutes')\n",
    "\n",
    "plt.xlabel(\"Movies\")\n",
    "plt.ylabel(\"Run Time\")\n",
    "plt.title(\"Top Animation Movies Run Time\")"
   ]
  },
  {
   "cell_type": "markdown",
   "metadata": {},
   "source": [
    "<h5> 25% of the animation movies are between 87 minutes long and 102 minutes long with an average runtime of 91 minutes "
   ]
  },
  {
   "cell_type": "code",
   "execution_count": null,
   "metadata": {},
   "outputs": [],
   "source": [
    "df_topanimation['runtime_minutes'].describe()"
   ]
  },
  {
   "cell_type": "markdown",
   "metadata": {},
   "source": []
  },
  {
   "cell_type": "code",
   "execution_count": null,
   "metadata": {},
   "outputs": [],
   "source": [
    "sns.set(font_scale=1)\n",
    "sns.relplot(data=genre_stats_df, \n",
    "            x =\"Average_Profit\", y=\"Average_Budget\",\n",
    "            hue = \"Genre\")\n",
    "scifi = genre_stats_df[genre_stats_df['Genre'] == 'Sci-Fi']\n",
    "animation = genre_stats_df[genre_stats_df['Genre'] == 'Animation']\n",
    "musical = genre_stats_df[genre_stats_df['Genre'] == 'Musical']\n",
    "music = genre_stats_df[genre_stats_df['Genre'] == 'Music']\n",
    "plt.text(scifi['Average_Profit']-15, scifi['Average_Budget']+3, 'Sci Fi')\n",
    "plt.text(animation['Average_Profit']-30, animation['Average_Budget']+3, 'Animation')\n",
    "plt.text(musical['Average_Profit']-20, musical['Average_Budget']+3, 'Musical')\n",
    "plt.text(western['Average_Profit']-20, music['Average_Budget']+3, 'Music')\n",
    "\n",
    "\n",
    "\n",
    "plt.xlabel(\"Average Profit (Millions USD)\")\n",
    "plt.ylabel(\"Average Budget (Millions USD)\")\n",
    "plt.title(\"Average Budget vs Profit per Genre of Movies\");"
   ]
  },
  {
   "cell_type": "code",
   "execution_count": null,
   "metadata": {},
   "outputs": [],
   "source": [
    "sns.set(font_scale=1)\n",
    "sns.relplot(data=genre_stats_df, \n",
    "            x =\"Average_Profit\", y=\"Average_Budget\",\n",
    "            hue = \"Genre\")\n",
    "scifi = genre_stats_df[genre_stats_df['Genre'] == 'Sci-Fi']\n",
    "animation = genre_stats_df[genre_stats_df['Genre'] == 'Animation']\n",
    "musical = genre_stats_df[genre_stats_df['Genre'] == 'Musical']\n",
    "music = genre_stats_df[genre_stats_df['Genre'] == 'Music']\n",
    "plt.text(scifi['Average_Profit']-15, scifi['Average_Budget']+3, 'Sci Fi')\n",
    "plt.text(animation['Average_Profit']-30, animation['Average_Budget']+3, 'Animation')\n",
    "plt.text(musical['Average_Profit']-20, musical['Average_Budget']+3, 'Musical')\n",
    "plt.text(western['Average_Profit']-20, music['Average_Budget']+3, 'Music')\n",
    "\n",
    "\n",
    "\n",
    "plt.xlabel(\"Average Profit (Millions USD)\")\n",
    "plt.ylabel(\"Average Budget (Millions USD)\")\n",
    "plt.title(\"Average Budget vs Profit per Genre of Movies\");"
   ]
  },
  {
   "cell_type": "markdown",
   "metadata": {},
   "source": [
    "## Working Area 3"
   ]
  },
  {
   "cell_type": "code",
   "execution_count": null,
   "metadata": {},
   "outputs": [],
   "source": []
  },
  {
   "cell_type": "code",
   "execution_count": null,
   "metadata": {},
   "outputs": [],
   "source": []
  },
  {
   "cell_type": "code",
   "execution_count": null,
   "metadata": {},
   "outputs": [],
   "source": []
  },
  {
   "cell_type": "code",
   "execution_count": null,
   "metadata": {},
   "outputs": [],
   "source": []
  },
  {
   "cell_type": "code",
   "execution_count": null,
   "metadata": {},
   "outputs": [],
   "source": []
  },
  {
   "cell_type": "code",
   "execution_count": null,
   "metadata": {},
   "outputs": [],
   "source": []
  },
  {
   "cell_type": "code",
   "execution_count": null,
   "metadata": {},
   "outputs": [],
   "source": []
  },
  {
   "cell_type": "code",
   "execution_count": null,
   "metadata": {},
   "outputs": [],
   "source": []
  },
  {
   "cell_type": "code",
   "execution_count": null,
   "metadata": {},
   "outputs": [],
   "source": []
  }
 ],
 "metadata": {
  "kernelspec": {
   "display_name": "Python 3",
   "language": "python",
   "name": "python3"
  },
  "language_info": {
   "codemirror_mode": {
    "name": "ipython",
    "version": 3
   },
   "file_extension": ".py",
   "mimetype": "text/x-python",
   "name": "python",
   "nbconvert_exporter": "python",
   "pygments_lexer": "ipython3",
   "version": "3.8.5"
  }
 },
 "nbformat": 4,
 "nbformat_minor": 4
}
